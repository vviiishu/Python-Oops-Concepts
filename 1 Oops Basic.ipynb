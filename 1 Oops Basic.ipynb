{
 "cells": [
  {
   "cell_type": "code",
   "execution_count": 1,
   "id": "2b720a9e-23de-46f0-bea4-c9d2ac23ae02",
   "metadata": {},
   "outputs": [],
   "source": [
    "a = 5"
   ]
  },
  {
   "cell_type": "code",
   "execution_count": 2,
   "id": "46146849-0734-425a-81be-9037b44d66b4",
   "metadata": {},
   "outputs": [
    {
     "name": "stdout",
     "output_type": "stream",
     "text": [
      "<class 'int'>\n"
     ]
    }
   ],
   "source": [
    "print(type(a))"
   ]
  },
  {
   "cell_type": "code",
   "execution_count": 3,
   "id": "dd72a1b8-e425-449d-ac42-0fa3164bee55",
   "metadata": {},
   "outputs": [
    {
     "name": "stdout",
     "output_type": "stream",
     "text": [
      "<class 'str'>\n"
     ]
    }
   ],
   "source": [
    "s = \"vishal\"\n",
    "print(type(s))"
   ]
  },
  {
   "cell_type": "code",
   "execution_count": 4,
   "id": "6c6d4b37-c28d-4df8-8f20-6eba8afc007a",
   "metadata": {},
   "outputs": [],
   "source": [
    "class Car:     #naming convention>> UpperCamelCase\n",
    "    pass"
   ]
  },
  {
   "cell_type": "code",
   "execution_count": 5,
   "id": "49899d27-d40e-4a10-9d5c-ff534187355a",
   "metadata": {},
   "outputs": [],
   "source": [
    "obj = Car() #instance, object,variable"
   ]
  },
  {
   "cell_type": "code",
   "execution_count": 6,
   "id": "90a3c36c-64e0-4f4f-b55c-a676b624da8b",
   "metadata": {},
   "outputs": [
    {
     "name": "stdout",
     "output_type": "stream",
     "text": [
      "<class '__main__.Car'>\n"
     ]
    }
   ],
   "source": [
    "print(type(obj))"
   ]
  },
  {
   "cell_type": "code",
   "execution_count": 7,
   "id": "60673133-86dd-411a-946a-3ebe2631ab35",
   "metadata": {},
   "outputs": [],
   "source": [
    "class Car: \n",
    "    def accelerate(self):             # function/method of a car\n",
    "        print(\"car is accelerting\")    "
   ]
  },
  {
   "cell_type": "code",
   "execution_count": 8,
   "id": "466fb0bb-58d7-4ca7-972d-106ce992729e",
   "metadata": {},
   "outputs": [],
   "source": [
    "obj1 = Car()   # created a object of class Car"
   ]
  },
  {
   "cell_type": "code",
   "execution_count": 9,
   "id": "42d2a562-a76f-4745-86c2-7401b8ef8c83",
   "metadata": {},
   "outputs": [
    {
     "name": "stdout",
     "output_type": "stream",
     "text": [
      "car is accelerting\n"
     ]
    }
   ],
   "source": [
    "obj1.accelerate()    # calling method of class Car using obj"
   ]
  },
  {
   "cell_type": "markdown",
   "id": "41cc309b-44a4-4b3d-86a4-a27c41adab79",
   "metadata": {},
   "source": [
    "#### self : A variable that represents object of the class using which we can access attribute and method"
   ]
  },
  {
   "cell_type": "markdown",
   "id": "86cb83b1-e29a-4999-a1fe-28eec15cb951",
   "metadata": {},
   "source": [
    "Object-oriented programming (OOP) in Python offers several advantages:\n",
    "\n",
    "Encapsulation: OOP allows you to encapsulate data (attributes) and behavior (methods) into objects. This means you can create modular and reusable code, enhancing maintainability and reducing complexity.\n",
    "\n",
    "Abstraction: OOP enables you to abstract away the complexity of your code by modeling real-world entities as objects. You can focus on the essential features of an object while hiding the irrelevant details.\n",
    "\n",
    "Inheritance: Python supports inheritance, allowing you to create new classes based on existing ones. This promotes code reuse, as you can inherit attributes and methods from a parent class and then customize or extend them in the child class.\n",
    "\n",
    "Polymorphism: OOP in Python supports polymorphism, which means that objects of different classes can be treated as objects of a common superclass. This facilitates code flexibility and reusability, as you can write functions or methods that can work with objects of multiple types.\n",
    "\n",
    "Modularity and Maintainability: OOP promotes modular code design, making it easier to maintain and extend. By organizing your code into classes and objects, you can isolate different components, which simplifies debugging, testing, and updating your codebase.\n",
    "\n",
    "Code Organization: OOP encourages a structured approach to programming, which can lead to more organized and readable code. Classes and objects provide a natural way to represent the relationships and interactions between different parts of your program."
   ]
  },
  {
   "cell_type": "code",
   "execution_count": 10,
   "id": "27340fa6-da72-48ed-968e-f5772c144eae",
   "metadata": {},
   "outputs": [],
   "source": [
    "class Car: \n",
    "    def accelerate(self):   \n",
    "        print(\"car is accelerting\")\n",
    "    def brake(self):\n",
    "        print(\"car is stopping\")"
   ]
  },
  {
   "cell_type": "code",
   "execution_count": 11,
   "id": "9aab3b54-1e69-4bd9-9225-f37de14b0aa0",
   "metadata": {},
   "outputs": [
    {
     "name": "stdout",
     "output_type": "stream",
     "text": [
      "car is stopping\n"
     ]
    }
   ],
   "source": [
    "obj1 = Car()\n",
    "obj1.brake()"
   ]
  },
  {
   "cell_type": "code",
   "execution_count": 12,
   "id": "e5d5e368-5734-4304-9bf2-60d871e80d38",
   "metadata": {},
   "outputs": [],
   "source": [
    "class Bank:\n",
    "    def deposit(self, amount):\n",
    "        print(\"I am trying to deposit some money\")\n",
    "    def withdraw(self, amount_withdraw):\n",
    "        print(\"I am trying to withdraw some money\")"
   ]
  },
  {
   "cell_type": "code",
   "execution_count": 13,
   "id": "17cff5fc-1f33-453a-9b50-bc28c699a14f",
   "metadata": {},
   "outputs": [],
   "source": [
    "vishal = Bank()"
   ]
  },
  {
   "cell_type": "code",
   "execution_count": 14,
   "id": "62fd29ed-417f-4e6b-b233-b297f88fed08",
   "metadata": {},
   "outputs": [
    {
     "name": "stdout",
     "output_type": "stream",
     "text": [
      "I am trying to deposit some money\n"
     ]
    }
   ],
   "source": [
    "vishal.deposit(5000)"
   ]
  },
  {
   "cell_type": "code",
   "execution_count": 15,
   "id": "3d056927-1b75-4b90-92c5-e32bec89058d",
   "metadata": {},
   "outputs": [
    {
     "ename": "NameError",
     "evalue": "name 'deposit' is not defined",
     "output_type": "error",
     "traceback": [
      "\u001b[0;31m---------------------------------------------------------------------------\u001b[0m",
      "\u001b[0;31mNameError\u001b[0m                                 Traceback (most recent call last)",
      "Cell \u001b[0;32mIn[15], line 1\u001b[0m\n\u001b[0;32m----> 1\u001b[0m \u001b[43mdeposit\u001b[49m()   \u001b[38;5;66;03m# we can not access method or attributes of class without using object\u001b[39;00m\n",
      "\u001b[0;31mNameError\u001b[0m: name 'deposit' is not defined"
     ]
    }
   ],
   "source": [
    "deposit()   # we can not access method or attributes of class without using object"
   ]
  },
  {
   "cell_type": "code",
   "execution_count": 16,
   "id": "7b6342c6-e121-4b52-8729-e78d032d4078",
   "metadata": {},
   "outputs": [],
   "source": [
    "class Bank:\n",
    "    amount = 1000\n",
    "    def deposit(self, amount):\n",
    "        print(\"I am trying to deposit some money\")\n",
    "    def withdraw(self, amount_withdraw):\n",
    "        print(\"I am trying to withdraw some money\")"
   ]
  },
  {
   "cell_type": "code",
   "execution_count": 17,
   "id": "65aa322b-529d-444d-a478-e32552fc0836",
   "metadata": {},
   "outputs": [],
   "source": [
    "vis = Bank()"
   ]
  },
  {
   "cell_type": "code",
   "execution_count": 18,
   "id": "9c974b33-e007-46b4-aa28-daaf60a0f8d0",
   "metadata": {},
   "outputs": [
    {
     "name": "stdout",
     "output_type": "stream",
     "text": [
      "I am trying to deposit some money\n"
     ]
    }
   ],
   "source": [
    "vis.deposit(1000)"
   ]
  },
  {
   "cell_type": "code",
   "execution_count": 19,
   "id": "a6fb70fe-ff9f-452b-8771-247e8340fedf",
   "metadata": {},
   "outputs": [
    {
     "data": {
      "text/plain": [
       "1000"
      ]
     },
     "execution_count": 19,
     "metadata": {},
     "output_type": "execute_result"
    }
   ],
   "source": [
    "vis.amount"
   ]
  },
  {
   "cell_type": "code",
   "execution_count": 20,
   "id": "0d0d6aac-4536-440c-8316-99c93268144a",
   "metadata": {},
   "outputs": [],
   "source": [
    "class Listops:\n",
    "    \n",
    "    l = [1, 2, 3, 4, 5]\n",
    "    def extract_even(self, l):\n",
    "        l1 = []\n",
    "        for i in l:\n",
    "            if i % 2 ==0:\n",
    "                l1.append(i)\n",
    "        return l1\n",
    "    \n",
    "    def extract_odd(self, l):\n",
    "        l1 = []\n",
    "        for i in l:\n",
    "            if i % 2 !=0:\n",
    "                l1.append(i)\n",
    "        return l1"
   ]
  },
  {
   "cell_type": "code",
   "execution_count": 22,
   "id": "be13a556-d7db-4f6b-a6d4-02cf1a9df311",
   "metadata": {},
   "outputs": [],
   "source": [
    "obj1= Listops()"
   ]
  },
  {
   "cell_type": "code",
   "execution_count": 23,
   "id": "fe96ebc6-886b-46b4-9bdf-f42ada5fcbe9",
   "metadata": {},
   "outputs": [
    {
     "data": {
      "text/plain": [
       "[1, 2, 3, 4, 5]"
      ]
     },
     "execution_count": 23,
     "metadata": {},
     "output_type": "execute_result"
    }
   ],
   "source": [
    "obj1.l"
   ]
  },
  {
   "cell_type": "code",
   "execution_count": 24,
   "id": "b13f6bc3-572d-496f-96ab-d539367fc5a9",
   "metadata": {},
   "outputs": [
    {
     "data": {
      "text/plain": [
       "[2, 4]"
      ]
     },
     "execution_count": 24,
     "metadata": {},
     "output_type": "execute_result"
    }
   ],
   "source": [
    "obj1.extract_even(obj1.l)"
   ]
  },
  {
   "cell_type": "code",
   "execution_count": 26,
   "id": "8f464708-375e-41f6-8c33-ec2807147754",
   "metadata": {},
   "outputs": [
    {
     "data": {
      "text/plain": [
       "[2, 4]"
      ]
     },
     "execution_count": 26,
     "metadata": {},
     "output_type": "execute_result"
    }
   ],
   "source": [
    "obj2 = Listops()      # As the variable is const,if we even create tons of obj,we will get same o/p \n",
    "obj2.extract_even(obj2.l)"
   ]
  },
  {
   "cell_type": "code",
   "execution_count": 27,
   "id": "1f18eebd-0fba-4ead-9f94-2783dde86580",
   "metadata": {},
   "outputs": [],
   "source": [
    "class Listops:\n",
    "    \n",
    "    def __init__(self, l):\n",
    "        self.l = l\n",
    "        \n",
    "    def extract_even(self):\n",
    "        l = self.l\n",
    "        l1 = []\n",
    "        for i in l:\n",
    "            if i % 2 ==0:\n",
    "                l1.append(i)\n",
    "        return l1\n",
    "    \n",
    "    def extract_odd(self):\n",
    "        l=self.l\n",
    "        l1 = []\n",
    "        for i in l:\n",
    "            if i % 2 !=0:\n",
    "                l1.append(i)\n",
    "        return l1"
   ]
  },
  {
   "cell_type": "code",
   "execution_count": 28,
   "id": "4b74d2fb-f733-4dd3-828a-59e2c288c2d7",
   "metadata": {},
   "outputs": [],
   "source": [
    "obj1 = Listops([1, 2, 3, 4, 5])"
   ]
  },
  {
   "cell_type": "code",
   "execution_count": 29,
   "id": "4f5fada9-94ed-4e44-8a5a-271979d126c1",
   "metadata": {},
   "outputs": [
    {
     "data": {
      "text/plain": [
       "[1, 2, 3, 4, 5]"
      ]
     },
     "execution_count": 29,
     "metadata": {},
     "output_type": "execute_result"
    }
   ],
   "source": [
    "obj1.l"
   ]
  },
  {
   "cell_type": "code",
   "execution_count": 30,
   "id": "b0687f47-73f6-45cb-89fb-87de1f5dab36",
   "metadata": {},
   "outputs": [
    {
     "data": {
      "text/plain": [
       "[1, 2, 3, 4, 5]"
      ]
     },
     "execution_count": 30,
     "metadata": {},
     "output_type": "execute_result"
    }
   ],
   "source": [
    "obj1.l"
   ]
  },
  {
   "cell_type": "code",
   "execution_count": 31,
   "id": "cf798765-b928-47f6-b275-4ebe04e2191e",
   "metadata": {},
   "outputs": [
    {
     "data": {
      "text/plain": [
       "[8, 4, 10]"
      ]
     },
     "execution_count": 31,
     "metadata": {},
     "output_type": "execute_result"
    }
   ],
   "source": [
    "obj2 = Listops([1, 8, 3, 4, 10])\n",
    "obj2.extract_even()"
   ]
  },
  {
   "cell_type": "code",
   "execution_count": 32,
   "id": "5287838a-f6f6-4081-9cc1-4b90987212e0",
   "metadata": {},
   "outputs": [],
   "source": [
    "class List:\n",
    "    def __init__(self,list):\n",
    "        self.vis = list \n",
    "    def even (self):\n",
    "        l1=self.vis\n",
    "        l2=[]\n",
    "        for i in l1:\n",
    "            if i%2==0:\n",
    "                l2.append(i)\n",
    "        return l2\n",
    "    def odd (self):\n",
    "        l1=self.vis\n",
    "        l2=[]\n",
    "        for i in l1:\n",
    "            if i%2!=0:\n",
    "                l2.append(i)\n",
    "        return l2   "
   ]
  },
  {
   "cell_type": "code",
   "execution_count": 33,
   "id": "f8a9f002-a782-47bf-ba7b-cbc778b9a3cd",
   "metadata": {},
   "outputs": [],
   "source": [
    "obj1 = List([1, 2, 3, 4, 5])"
   ]
  },
  {
   "cell_type": "code",
   "execution_count": 34,
   "id": "18f64242-eacd-4be1-ab7a-2bae0ae44e23",
   "metadata": {},
   "outputs": [],
   "source": [
    "#Above provided value will go to \"list\" then store in self.vis then class List will know I have list as variable\n",
    "#and then we have assigned self,vis to l1 in even and fun"
   ]
  },
  {
   "cell_type": "code",
   "execution_count": 35,
   "id": "c38d758a-4719-456d-8ecb-dc5ef9cb2c04",
   "metadata": {},
   "outputs": [
    {
     "data": {
      "text/plain": [
       "[1, 2, 3, 4, 5]"
      ]
     },
     "execution_count": 35,
     "metadata": {},
     "output_type": "execute_result"
    }
   ],
   "source": [
    "obj1.vis"
   ]
  },
  {
   "cell_type": "code",
   "execution_count": 36,
   "id": "3c26aed2-0bc8-47a6-a58f-3b9fbc853e88",
   "metadata": {},
   "outputs": [
    {
     "data": {
      "text/plain": [
       "[2, 4]"
      ]
     },
     "execution_count": 36,
     "metadata": {},
     "output_type": "execute_result"
    }
   ],
   "source": [
    "obj1.even()"
   ]
  },
  {
   "cell_type": "code",
   "execution_count": 37,
   "id": "69a780ba-94e6-4a35-8378-3954b8fd42e6",
   "metadata": {},
   "outputs": [
    {
     "data": {
      "text/plain": [
       "[1, 3, 5]"
      ]
     },
     "execution_count": 37,
     "metadata": {},
     "output_type": "execute_result"
    }
   ],
   "source": [
    "obj1.odd()"
   ]
  },
  {
   "cell_type": "code",
   "execution_count": 47,
   "id": "80950f84-9caf-4fb2-ae17-434e26061770",
   "metadata": {},
   "outputs": [],
   "source": [
    "class Book:\n",
    "    \n",
    "    def __init__(self, name, author, title):\n",
    "        self.name_of_book = name\n",
    "        self.book_author = author\n",
    "        self.title_name = title\n",
    "        \n",
    "    def extract_details_name_title(self):\n",
    "        print(self.name_of_book, \" | \", self.title_name)\n",
    "        \n",
    "    def extract_details_name_author(self):\n",
    "        print(self.name_of_book, self.book_author) "
   ]
  },
  {
   "cell_type": "code",
   "execution_count": 48,
   "id": "81ed3738-3534-4a3b-8eaa-7ace2d805064",
   "metadata": {},
   "outputs": [],
   "source": [
    "obj1 = Book(\"Concept of phy\", \"Hc Verma\", \"Mechanics\")"
   ]
  },
  {
   "cell_type": "code",
   "execution_count": 49,
   "id": "19337667-62e2-43ee-be2d-f8883953d234",
   "metadata": {},
   "outputs": [
    {
     "name": "stdout",
     "output_type": "stream",
     "text": [
      "Concept of phy  |  Mechanics\n"
     ]
    }
   ],
   "source": [
    "obj1.extract_details_name_title()"
   ]
  },
  {
   "cell_type": "code",
   "execution_count": 50,
   "id": "ff17663f-896e-473d-afdb-f7c19af1d2a3",
   "metadata": {},
   "outputs": [],
   "source": [
    "obj2 = Book(\"Cordinate Geometry\", \"Sl Loney\", \"Cordinate\")"
   ]
  },
  {
   "cell_type": "code",
   "execution_count": 51,
   "id": "e9c8df01-2610-4fa8-8a4a-17c0b77df9cd",
   "metadata": {},
   "outputs": [
    {
     "name": "stdout",
     "output_type": "stream",
     "text": [
      "Cordinate Geometry Sl Loney\n"
     ]
    }
   ],
   "source": [
    "obj2.extract_details_name_author()"
   ]
  },
  {
   "cell_type": "code",
   "execution_count": 52,
   "id": "6ab670b2-0efd-458c-a729-90bf336db502",
   "metadata": {},
   "outputs": [
    {
     "data": {
      "text/plain": [
       "'Cordinate Geometry'"
      ]
     },
     "execution_count": 52,
     "metadata": {},
     "output_type": "execute_result"
    }
   ],
   "source": [
    "obj2.name_of_book"
   ]
  },
  {
   "cell_type": "code",
   "execution_count": 53,
   "id": "6dd3662c-e9bd-469b-8726-7c58e5fbf1b0",
   "metadata": {},
   "outputs": [
    {
     "data": {
      "text/plain": [
       "'Cordinate'"
      ]
     },
     "execution_count": 53,
     "metadata": {},
     "output_type": "execute_result"
    }
   ],
   "source": [
    "obj2.title_name"
   ]
  },
  {
   "cell_type": "code",
   "execution_count": 54,
   "id": "b984fafc-87c7-433b-963d-55158627ba63",
   "metadata": {},
   "outputs": [],
   "source": [
    "class Book:\n",
    "    \n",
    "    def __init__(self):\n",
    "        self.name_of_book = \"DSA\"\n",
    "        self.book_author = \"Cormen\"\n",
    "        self.title_name =\"Stacks\"\n",
    "        \n",
    "    def extract_details_name_title(self):\n",
    "        print(self.name_of_book, self.title_name)\n",
    "        \n",
    "    def extract_details_name_author(self):\n",
    "        print(self.name_of_book, self.book_author)"
   ]
  },
  {
   "cell_type": "code",
   "execution_count": 55,
   "id": "c17a7936-65e3-4bf1-8bc2-25175a7636bd",
   "metadata": {},
   "outputs": [
    {
     "name": "stdout",
     "output_type": "stream",
     "text": [
      "DSA Cormen\n"
     ]
    }
   ],
   "source": [
    "student1 = Book()\n",
    "student1.extract_details_name_author()"
   ]
  },
  {
   "cell_type": "code",
   "execution_count": 56,
   "id": "ae712c03-59ee-4d21-9b29-7171d1184314",
   "metadata": {},
   "outputs": [
    {
     "name": "stdout",
     "output_type": "stream",
     "text": [
      "DSA Cormen\n"
     ]
    }
   ],
   "source": [
    "student2 = Book()\n",
    "student2.extract_details_name_author()"
   ]
  }
 ],
 "metadata": {
  "kernelspec": {
   "display_name": "Python 3 (ipykernel)",
   "language": "python",
   "name": "python3"
  },
  "language_info": {
   "codemirror_mode": {
    "name": "ipython",
    "version": 3
   },
   "file_extension": ".py",
   "mimetype": "text/x-python",
   "name": "python",
   "nbconvert_exporter": "python",
   "pygments_lexer": "ipython3",
   "version": "3.10.8"
  }
 },
 "nbformat": 4,
 "nbformat_minor": 5
}
