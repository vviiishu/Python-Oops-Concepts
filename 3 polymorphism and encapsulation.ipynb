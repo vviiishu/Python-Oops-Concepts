{
 "cells": [
  {
   "cell_type": "code",
   "execution_count": 1,
   "id": "a3dfccec-ff55-412a-a98e-b9736ec75c02",
   "metadata": {},
   "outputs": [],
   "source": [
    "#Polymorphism >> poly means many, morphism means forms/states\n",
    "#refers to an object taking several forms depending on data"
   ]
  },
  {
   "cell_type": "code",
   "execution_count": 2,
   "id": "d62b9f7b-0759-4e6c-82ce-0e297136a86a",
   "metadata": {},
   "outputs": [
    {
     "data": {
      "text/plain": [
       "4"
      ]
     },
     "execution_count": 2,
     "metadata": {},
     "output_type": "execute_result"
    }
   ],
   "source": [
    "len(\"Vish\")"
   ]
  },
  {
   "cell_type": "code",
   "execution_count": 3,
   "id": "fe3758d0-f9a6-4236-906b-1ecc4dd8637a",
   "metadata": {},
   "outputs": [
    {
     "data": {
      "text/plain": [
       "6"
      ]
     },
     "execution_count": 3,
     "metadata": {},
     "output_type": "execute_result"
    }
   ],
   "source": [
    "len([1, 2, 3, 4, 6, 7])"
   ]
  },
  {
   "cell_type": "code",
   "execution_count": 4,
   "id": "158766bc-ed73-4b80-acd2-26747871ebac",
   "metadata": {},
   "outputs": [],
   "source": [
    "def func(a, b):\n",
    "    return a+b"
   ]
  },
  {
   "cell_type": "code",
   "execution_count": 5,
   "id": "35a1f804-de8d-4d21-bd50-bbb456fee843",
   "metadata": {},
   "outputs": [
    {
     "data": {
      "text/plain": [
       "7"
      ]
     },
     "execution_count": 5,
     "metadata": {},
     "output_type": "execute_result"
    }
   ],
   "source": [
    "func(3, 4)"
   ]
  },
  {
   "cell_type": "code",
   "execution_count": 6,
   "id": "eca894a4-59e6-497c-98f7-582828acb1b9",
   "metadata": {},
   "outputs": [
    {
     "data": {
      "text/plain": [
       "'vishal'"
      ]
     },
     "execution_count": 6,
     "metadata": {},
     "output_type": "execute_result"
    }
   ],
   "source": [
    "func(\"vis\", \"hal\")"
   ]
  },
  {
   "cell_type": "code",
   "execution_count": 7,
   "id": "be6ab78f-c1c8-41ff-b4f6-7602345d9170",
   "metadata": {},
   "outputs": [
    {
     "data": {
      "text/plain": [
       "[1, 2, 3, 4, 5, 6]"
      ]
     },
     "execution_count": 7,
     "metadata": {},
     "output_type": "execute_result"
    }
   ],
   "source": [
    "func([1, 2, 3], [4, 5, 6])"
   ]
  },
  {
   "cell_type": "code",
   "execution_count": 8,
   "id": "e29145b4-5717-433f-a236-c4ade0bd30cc",
   "metadata": {},
   "outputs": [],
   "source": [
    "class teacher_lecture:\n",
    "    def lec_info(self):\n",
    "        print(\"This is lec info with teacher view\")\n",
    "class student_lecture:\n",
    "    def lec_info(self):\n",
    "        print(\"This is lec info with student view\")"
   ]
  },
  {
   "cell_type": "code",
   "execution_count": 9,
   "id": "57764c31-22a3-403e-b294-36b06436159a",
   "metadata": {},
   "outputs": [],
   "source": [
    "obj1 = teacher_lecture()\n",
    "obj2 = student_lecture()"
   ]
  },
  {
   "cell_type": "code",
   "execution_count": 10,
   "id": "91bea305-282f-4d70-aeab-4348328ab50b",
   "metadata": {},
   "outputs": [],
   "source": [
    "obj_list = [obj1, obj2]"
   ]
  },
  {
   "cell_type": "code",
   "execution_count": 11,
   "id": "01b6570e-d126-4af0-bc57-9104f9bb118e",
   "metadata": {},
   "outputs": [],
   "source": [
    "def test(obj_list):\n",
    "    for i in obj_list:\n",
    "        i.lec_info()"
   ]
  },
  {
   "cell_type": "code",
   "execution_count": 12,
   "id": "0348327a-60f4-4959-b674-9683e8fab9fd",
   "metadata": {},
   "outputs": [
    {
     "name": "stdout",
     "output_type": "stream",
     "text": [
      "This is lec info with teacher view\n",
      "This is lec info with student view\n"
     ]
    }
   ],
   "source": [
    "test(obj_list)"
   ]
  },
  {
   "cell_type": "code",
   "execution_count": 13,
   "id": "0bd8a101-738a-4f1a-8a55-f64296319725",
   "metadata": {},
   "outputs": [],
   "source": [
    "#polymorphism can be achived by >> Method overloading and Method Overriding"
   ]
  },
  {
   "cell_type": "code",
   "execution_count": 14,
   "id": "0d1e2cc9-cb99-417b-9deb-ecfec5de14bb",
   "metadata": {},
   "outputs": [],
   "source": [
    "class Student:\n",
    "    def student(self):\n",
    "        print(\"Welcome to PWskills class\")\n",
    "    def student(self, name= \"\"):\n",
    "         print(\"Welcome to PWskills class\", name)\n",
    "    def student(self, name =\"\"  , course = \"\" ):\n",
    "         print(\"Welcome to PWskills class\", name, course)"
   ]
  },
  {
   "cell_type": "code",
   "execution_count": 15,
   "id": "db17c201-fa6c-4aa8-9fad-bd954700b82e",
   "metadata": {},
   "outputs": [],
   "source": [
    "obj_stud = Student()"
   ]
  },
  {
   "cell_type": "code",
   "execution_count": 16,
   "id": "8c1a8f12-7a3c-42cf-a0a2-1070b080a9d9",
   "metadata": {},
   "outputs": [
    {
     "name": "stdout",
     "output_type": "stream",
     "text": [
      "Welcome to PWskills class  \n"
     ]
    }
   ],
   "source": [
    "obj_stud.student()"
   ]
  },
  {
   "cell_type": "code",
   "execution_count": 17,
   "id": "daa39c0f-ad0a-4485-9e6c-c3f3a3cd1cb5",
   "metadata": {},
   "outputs": [
    {
     "name": "stdout",
     "output_type": "stream",
     "text": [
      "Welcome to PWskills class Vishal \n"
     ]
    }
   ],
   "source": [
    "obj_stud.student(\"Vishal\")"
   ]
  },
  {
   "cell_type": "code",
   "execution_count": 18,
   "id": "81e36312-6c58-4147-9d2f-d919ce051fbc",
   "metadata": {},
   "outputs": [
    {
     "name": "stdout",
     "output_type": "stream",
     "text": [
      "Welcome to PWskills class Vishal DA\n"
     ]
    }
   ],
   "source": [
    "obj_stud.student(\"Vishal\",\"DA\")"
   ]
  },
  {
   "cell_type": "code",
   "execution_count": 19,
   "id": "05c6c74e-03df-4f50-b25a-4dd8ef569bd5",
   "metadata": {},
   "outputs": [],
   "source": [
    "#method overloading>> student is taking different forms, the last method overwrites the previous ones\n",
    "\n",
    "class Student:\n",
    "    def student(self, name = \"\", course = \"\"):\n",
    "         print(\"Welcome to PWskills class\", name, course)\n",
    "            \n",
    "stud = Student()"
   ]
  },
  {
   "cell_type": "code",
   "execution_count": 20,
   "id": "1c97c59c-20b0-4507-beb8-a0435a9a3a56",
   "metadata": {},
   "outputs": [
    {
     "name": "stdout",
     "output_type": "stream",
     "text": [
      "Welcome to PWskills class  \n"
     ]
    }
   ],
   "source": [
    "stud.student()"
   ]
  },
  {
   "cell_type": "code",
   "execution_count": 21,
   "id": "dc304b46-631b-4a6d-845c-19de307a767e",
   "metadata": {},
   "outputs": [
    {
     "name": "stdout",
     "output_type": "stream",
     "text": [
      "Welcome to PWskills class Vishal \n"
     ]
    }
   ],
   "source": [
    "stud.student(\"Vishal\")"
   ]
  },
  {
   "cell_type": "code",
   "execution_count": 22,
   "id": "2ed4734b-47e5-44c6-9a5a-c12145adbba8",
   "metadata": {},
   "outputs": [
    {
     "name": "stdout",
     "output_type": "stream",
     "text": [
      "Welcome to PWskills class Vishal DA\n"
     ]
    }
   ],
   "source": [
    "stud.student(\"Vishal\", \"DA\")"
   ]
  },
  {
   "cell_type": "markdown",
   "id": "12836c00-6558-42cf-9c40-99f94075eb81",
   "metadata": {},
   "source": [
    "#### Method Overriding >> method in parent class and child class with same signature, the the child class method will be executed"
   ]
  },
  {
   "cell_type": "code",
   "execution_count": 23,
   "id": "0d4dbf8e-3fd9-4d44-9f60-5df290d9672b",
   "metadata": {},
   "outputs": [],
   "source": [
    "class Animal:\n",
    "    def sound(self):\n",
    "        print(\"Animal sound\")\n",
    "class Cat(Animal):\n",
    "    def sound(self):\n",
    "        print(\"Cat meows\")"
   ]
  },
  {
   "cell_type": "code",
   "execution_count": 24,
   "id": "b782ea0e-1be5-4f42-8275-929bb5f94dc0",
   "metadata": {},
   "outputs": [],
   "source": [
    "cat = Cat()"
   ]
  },
  {
   "cell_type": "code",
   "execution_count": 25,
   "id": "f518f75b-ab52-4dff-9f10-5e63939e3b28",
   "metadata": {},
   "outputs": [
    {
     "name": "stdout",
     "output_type": "stream",
     "text": [
      "Cat meows\n"
     ]
    }
   ],
   "source": [
    "cat.sound()"
   ]
  },
  {
   "cell_type": "code",
   "execution_count": 26,
   "id": "e17995f2-69ed-4b63-a21f-bfea45cecd85",
   "metadata": {},
   "outputs": [],
   "source": [
    "#Encapsulation>> means hiding something\n",
    "#Bundling of data and methods \n",
    "#accsess modifier>> public, protected, private"
   ]
  },
  {
   "cell_type": "code",
   "execution_count": 27,
   "id": "82d6b0d0-0e18-4ce0-8313-9e58d36d83f3",
   "metadata": {},
   "outputs": [],
   "source": [
    "#Public >> accessible from anywhere from outside/inside the class\n",
    "\n",
    "class Student:\n",
    "    def __init__(self, name, degree):\n",
    "        self.name = name                    # self.name and self,degree is public class variable\n",
    "        self.degree = degree                # can be accessed outside the class also"
   ]
  },
  {
   "cell_type": "code",
   "execution_count": 28,
   "id": "3c77283b-9255-4b6e-bf5f-8dcf9acf5f84",
   "metadata": {},
   "outputs": [],
   "source": [
    "stud = Student(\"Vish\", \"DA\")"
   ]
  },
  {
   "cell_type": "code",
   "execution_count": 29,
   "id": "916776a2-f607-47bb-86bf-29c6b49cad0b",
   "metadata": {},
   "outputs": [
    {
     "data": {
      "text/plain": [
       "'Vish'"
      ]
     },
     "execution_count": 29,
     "metadata": {},
     "output_type": "execute_result"
    }
   ],
   "source": [
    "stud.name"
   ]
  },
  {
   "cell_type": "code",
   "execution_count": 30,
   "id": "90caad4b-3d34-4670-b264-77a516b9eb4f",
   "metadata": {},
   "outputs": [
    {
     "data": {
      "text/plain": [
       "'DA'"
      ]
     },
     "execution_count": 30,
     "metadata": {},
     "output_type": "execute_result"
    }
   ],
   "source": [
    "stud.degree"
   ]
  },
  {
   "cell_type": "code",
   "execution_count": 31,
   "id": "6fd58af6-7ad2-42a3-a9b3-83dff0a12e97",
   "metadata": {},
   "outputs": [],
   "source": [
    "stud.degree = \"Phd\"  # from outside class we have access class variable and modify it"
   ]
  },
  {
   "cell_type": "code",
   "execution_count": 32,
   "id": "50e9d898-ce5f-4e26-a705-9183ecce5218",
   "metadata": {},
   "outputs": [
    {
     "data": {
      "text/plain": [
       "'Phd'"
      ]
     },
     "execution_count": 32,
     "metadata": {},
     "output_type": "execute_result"
    }
   ],
   "source": [
    "stud.degree"
   ]
  },
  {
   "cell_type": "code",
   "execution_count": 33,
   "id": "08413d16-a087-45e4-8f44-42fcaf0aae5f",
   "metadata": {},
   "outputs": [],
   "source": [
    "#private >> within the class only its accessible, use two __ to make private\n",
    "\n",
    "class Student:\n",
    "    def __init__(self, name, degree):\n",
    "        self.name = name              # Public class variable\n",
    "        self.__degree = degree        # private class variable\n",
    "        \n",
    "    def show(self):\n",
    "        #accessing the public and private data member\n",
    "        print(\"name\", self.name, 'degree', self.__degree)"
   ]
  },
  {
   "cell_type": "code",
   "execution_count": 34,
   "id": "0efd714e-9622-4e94-b15f-a07e9edc0376",
   "metadata": {},
   "outputs": [],
   "source": [
    "stud = Student(\"Ramesh\", \"Masters\")"
   ]
  },
  {
   "cell_type": "code",
   "execution_count": 35,
   "id": "67b1a5d6-4902-45bb-ad86-38e4a9d810a4",
   "metadata": {},
   "outputs": [
    {
     "data": {
      "text/plain": [
       "'Ramesh'"
      ]
     },
     "execution_count": 35,
     "metadata": {},
     "output_type": "execute_result"
    }
   ],
   "source": [
    "stud.name"
   ]
  },
  {
   "cell_type": "code",
   "execution_count": 36,
   "id": "4715035e-7d1a-49b1-8a21-e03c58413013",
   "metadata": {},
   "outputs": [],
   "source": [
    "# stud.__degree      # will give error As it is private variable "
   ]
  },
  {
   "cell_type": "code",
   "execution_count": 37,
   "id": "7c018659-ab2e-4194-a082-969b7c8a976f",
   "metadata": {},
   "outputs": [
    {
     "data": {
      "text/plain": [
       "'Masters'"
      ]
     },
     "execution_count": 37,
     "metadata": {},
     "output_type": "execute_result"
    }
   ],
   "source": [
    "stud._Student__degree    # In python ownere can access private member of class by providing class name\n",
    "                         # and private variable name"
   ]
  },
  {
   "cell_type": "code",
   "execution_count": 38,
   "id": "30fa8373-315f-4bfc-af98-1aa93f094d6f",
   "metadata": {},
   "outputs": [
    {
     "name": "stdout",
     "output_type": "stream",
     "text": [
      "name Ramesh degree Masters\n"
     ]
    }
   ],
   "source": [
    "stud.show()"
   ]
  },
  {
   "cell_type": "code",
   "execution_count": 39,
   "id": "683535a6-cd8b-46de-a25c-0364d6261012",
   "metadata": {},
   "outputs": [],
   "source": [
    "class Car:\n",
    "    def __init__(self, year, make, speed, model):\n",
    "        self.__year = year\n",
    "        self.__make = make\n",
    "        self.__speed = speed\n",
    "        self.__model = model\n",
    "        \n",
    "    def set_speed(self, speed):\n",
    "        self.__speed = 0 if speed < 0 else speed\n",
    "        \n",
    "    def get_speed(self):\n",
    "        return self.__speed"
   ]
  },
  {
   "cell_type": "code",
   "execution_count": 40,
   "id": "84e2c010-18a0-4e5d-9d9e-672e068d2d68",
   "metadata": {},
   "outputs": [],
   "source": [
    "car = Car(\"1995\", \"Maruti\", \"80\", \"Brezza\")"
   ]
  },
  {
   "cell_type": "code",
   "execution_count": 41,
   "id": "a114cfae-d917-453c-8ca3-aadd0060d41b",
   "metadata": {},
   "outputs": [
    {
     "data": {
      "text/plain": [
       "'80'"
      ]
     },
     "execution_count": 41,
     "metadata": {},
     "output_type": "execute_result"
    }
   ],
   "source": [
    "car._Car__speed     # owner is accessing private variable "
   ]
  },
  {
   "cell_type": "code",
   "execution_count": 42,
   "id": "01952d5c-be4b-44de-a754-2b62758d21c5",
   "metadata": {},
   "outputs": [
    {
     "data": {
      "text/plain": [
       "'80'"
      ]
     },
     "execution_count": 42,
     "metadata": {},
     "output_type": "execute_result"
    }
   ],
   "source": [
    "car.get_speed()"
   ]
  },
  {
   "cell_type": "code",
   "execution_count": 43,
   "id": "af43bc06-b46c-4c4d-99d8-0d9e0df057f7",
   "metadata": {},
   "outputs": [],
   "source": [
    "car.set_speed(-1000)"
   ]
  },
  {
   "cell_type": "code",
   "execution_count": 44,
   "id": "c50c919b-31fa-4a7b-b8b9-3d4eaa1b169a",
   "metadata": {},
   "outputs": [
    {
     "data": {
      "text/plain": [
       "0"
      ]
     },
     "execution_count": 44,
     "metadata": {},
     "output_type": "execute_result"
    }
   ],
   "source": [
    "car.get_speed()"
   ]
  },
  {
   "cell_type": "code",
   "execution_count": 45,
   "id": "cfbab5c0-331d-40b3-a87e-421ed1fbdc04",
   "metadata": {},
   "outputs": [],
   "source": [
    "car.set_speed(100)"
   ]
  },
  {
   "cell_type": "code",
   "execution_count": 46,
   "id": "6c508a47-da60-439f-ac6d-b1e65fd4c803",
   "metadata": {},
   "outputs": [
    {
     "data": {
      "text/plain": [
       "100"
      ]
     },
     "execution_count": 46,
     "metadata": {},
     "output_type": "execute_result"
    }
   ],
   "source": [
    "car.get_speed()"
   ]
  },
  {
   "cell_type": "code",
   "execution_count": 47,
   "id": "c96e6908-3832-4243-b8b7-73bf0b4c104f",
   "metadata": {},
   "outputs": [],
   "source": [
    "class Bank:\n",
    "    \n",
    "    def __init__(self, balance):\n",
    "        self.__balance = balance\n",
    "        \n",
    "    def deposit(self, amount):\n",
    "        self.__balance = self.__balance + amount\n",
    "        \n",
    "    def withdraw(self, amount):\n",
    "        if self.__balance >= amount:\n",
    "            self.__balance = self.__balance - amount\n",
    "            return True\n",
    "        else:\n",
    "            return False\n",
    "        \n",
    "    def get_balance(self):\n",
    "        return self.__balance"
   ]
  },
  {
   "cell_type": "code",
   "execution_count": 48,
   "id": "0787b508-0455-4148-8e7c-04dac51e6377",
   "metadata": {},
   "outputs": [],
   "source": [
    "acc = Bank(1000)"
   ]
  },
  {
   "cell_type": "code",
   "execution_count": 49,
   "id": "2b37b4aa-0e53-43a0-8cd9-35ea0c25990a",
   "metadata": {},
   "outputs": [
    {
     "data": {
      "text/plain": [
       "1000"
      ]
     },
     "execution_count": 49,
     "metadata": {},
     "output_type": "execute_result"
    }
   ],
   "source": [
    "acc.get_balance()"
   ]
  },
  {
   "cell_type": "code",
   "execution_count": 50,
   "id": "b8ebe623-f3ad-4b48-b7c6-a8bf969258d3",
   "metadata": {},
   "outputs": [],
   "source": [
    "acc.deposit(10000)"
   ]
  },
  {
   "cell_type": "code",
   "execution_count": 51,
   "id": "b68184d6-f93a-4a72-bd9c-0a432dbf8e3c",
   "metadata": {},
   "outputs": [
    {
     "data": {
      "text/plain": [
       "11000"
      ]
     },
     "execution_count": 51,
     "metadata": {},
     "output_type": "execute_result"
    }
   ],
   "source": [
    "acc.get_balance()"
   ]
  },
  {
   "cell_type": "code",
   "execution_count": 52,
   "id": "6958b6a4-16c1-4db4-8c0c-ac2af334cede",
   "metadata": {},
   "outputs": [
    {
     "data": {
      "text/plain": [
       "True"
      ]
     },
     "execution_count": 52,
     "metadata": {},
     "output_type": "execute_result"
    }
   ],
   "source": [
    "acc.withdraw(10500)"
   ]
  },
  {
   "cell_type": "code",
   "execution_count": 53,
   "id": "2067658e-1d3d-4efd-a0a8-cfef9e9d6e32",
   "metadata": {},
   "outputs": [
    {
     "data": {
      "text/plain": [
       "500"
      ]
     },
     "execution_count": 53,
     "metadata": {},
     "output_type": "execute_result"
    }
   ],
   "source": [
    "acc.get_balance()"
   ]
  },
  {
   "cell_type": "code",
   "execution_count": 54,
   "id": "c6c635bf-962c-4f98-a536-6b0f81177f06",
   "metadata": {},
   "outputs": [
    {
     "data": {
      "text/plain": [
       "False"
      ]
     },
     "execution_count": 54,
     "metadata": {},
     "output_type": "execute_result"
    }
   ],
   "source": [
    "acc.withdraw(1000)"
   ]
  },
  {
   "cell_type": "code",
   "execution_count": 55,
   "id": "6d235744-8495-4766-b1ef-d689232e8549",
   "metadata": {},
   "outputs": [],
   "source": [
    "#protected>> within the class and its sub class protected member can be accessed, (_)\n",
    "\n",
    "class College:\n",
    "    def __init__(self):\n",
    "        self._college_name = \"PWskills\"     # protected variable\n",
    "\n",
    "class Student(College):\n",
    "    def __init__(self, name):\n",
    "        self.name = name\n",
    "        College.__init__(self)\n",
    "        \n",
    "    def show(self):\n",
    "        print(\"name\", self.name, \"college\", self._college_name)"
   ]
  },
  {
   "cell_type": "code",
   "execution_count": 56,
   "id": "67df38b8-00de-472c-a707-e47700666652",
   "metadata": {},
   "outputs": [],
   "source": [
    "stud = Student(\"Vish\")"
   ]
  },
  {
   "cell_type": "code",
   "execution_count": 57,
   "id": "9b8433e2-29a9-4fb2-9281-042038b67554",
   "metadata": {},
   "outputs": [
    {
     "name": "stdout",
     "output_type": "stream",
     "text": [
      "name Vish college PWskills\n"
     ]
    }
   ],
   "source": [
    "stud.show()"
   ]
  },
  {
   "cell_type": "code",
   "execution_count": 58,
   "id": "390d1d7b-2542-4885-80ac-6d062d3b6864",
   "metadata": {},
   "outputs": [],
   "source": [
    "coll = College()"
   ]
  },
  {
   "cell_type": "code",
   "execution_count": 59,
   "id": "aac7fdd8-aa4e-474d-8ac4-4053909d334f",
   "metadata": {},
   "outputs": [
    {
     "data": {
      "text/plain": [
       "'PWskills'"
      ]
     },
     "execution_count": 59,
     "metadata": {},
     "output_type": "execute_result"
    }
   ],
   "source": [
    "coll._college_name        # we can read protected variable outside the class by (_)"
   ]
  },
  {
   "cell_type": "code",
   "execution_count": 60,
   "id": "253fbf91-0037-4c1f-a6c2-5400d2740dd3",
   "metadata": {},
   "outputs": [],
   "source": [
    "class College:\n",
    "    def __init__(self):\n",
    "        self._college_name = \"PWskills\"\n",
    "\n",
    "class Student(College):\n",
    "    def __init__(self, name):\n",
    "        self.name = name\n",
    "        super().__init__()\n",
    "        \n",
    "    def show(self):\n",
    "        print(\"name\", self.name, \"college\", self._college_name)"
   ]
  },
  {
   "cell_type": "code",
   "execution_count": 61,
   "id": "a648dd70-da33-4b47-b871-6d7150412c04",
   "metadata": {},
   "outputs": [
    {
     "name": "stdout",
     "output_type": "stream",
     "text": [
      "name Vishal college PWskills\n"
     ]
    }
   ],
   "source": [
    "stud = Student(\"Vishal\")\n",
    "stud.show()"
   ]
  }
 ],
 "metadata": {
  "kernelspec": {
   "display_name": "Python 3 (ipykernel)",
   "language": "python",
   "name": "python3"
  },
  "language_info": {
   "codemirror_mode": {
    "name": "ipython",
    "version": 3
   },
   "file_extension": ".py",
   "mimetype": "text/x-python",
   "name": "python",
   "nbconvert_exporter": "python",
   "pygments_lexer": "ipython3",
   "version": "3.10.8"
  }
 },
 "nbformat": 4,
 "nbformat_minor": 5
}
