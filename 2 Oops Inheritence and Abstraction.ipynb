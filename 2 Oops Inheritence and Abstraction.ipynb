{
 "cells": [
  {
   "cell_type": "markdown",
   "id": "f72120b1-2fa7-4d83-a8fd-aca515f46b27",
   "metadata": {},
   "source": [
    "#### Inheritence"
   ]
  },
  {
   "cell_type": "code",
   "execution_count": 1,
   "id": "c05e7f9b-dbd1-4655-b2b6-2d42fd8b381f",
   "metadata": {},
   "outputs": [],
   "source": [
    "# Inheritence is the process of deriving features from parent class\n",
    "# syntax\n",
    "# class parent:\n",
    "        # body of parent class\n",
    "# class child (parent):\n",
    "       # body of child class"
   ]
  },
  {
   "cell_type": "code",
   "execution_count": 2,
   "id": "14d6eaf5-5758-4551-8c9f-81ab6f787d60",
   "metadata": {},
   "outputs": [],
   "source": [
    "# single inheritence : when a child class has only one parent class"
   ]
  },
  {
   "cell_type": "code",
   "execution_count": 3,
   "id": "b68f9c05-e174-417a-a41c-442d378a1219",
   "metadata": {},
   "outputs": [],
   "source": [
    "class father:\n",
    "    def parent_property(self):\n",
    "        return \"This is father property\""
   ]
  },
  {
   "cell_type": "code",
   "execution_count": 4,
   "id": "28355692-f2ed-4176-a3d8-ce728f962abc",
   "metadata": {},
   "outputs": [],
   "source": [
    "class son (father):\n",
    "    def job(self):\n",
    "        return \"son has also job\""
   ]
  },
  {
   "cell_type": "code",
   "execution_count": 5,
   "id": "0f1b194f-058f-4817-95d5-4e58e03aedab",
   "metadata": {},
   "outputs": [],
   "source": [
    "son_obj= son()"
   ]
  },
  {
   "cell_type": "code",
   "execution_count": 6,
   "id": "15161c76-b3fa-45bc-be54-aaf0f612fc73",
   "metadata": {},
   "outputs": [
    {
     "data": {
      "text/plain": [
       "'This is father property'"
      ]
     },
     "execution_count": 6,
     "metadata": {},
     "output_type": "execute_result"
    }
   ],
   "source": [
    "son_obj.parent_property()   #son obj can access both parent and child class method"
   ]
  },
  {
   "cell_type": "code",
   "execution_count": 7,
   "id": "123516ef-e30c-4b38-879a-8753ae9ed94d",
   "metadata": {},
   "outputs": [
    {
     "data": {
      "text/plain": [
       "'son has also job'"
      ]
     },
     "execution_count": 7,
     "metadata": {},
     "output_type": "execute_result"
    }
   ],
   "source": [
    "son_obj.job()"
   ]
  },
  {
   "cell_type": "code",
   "execution_count": 8,
   "id": "9f627c28-2911-4709-aa2a-d41efc77c8e8",
   "metadata": {},
   "outputs": [],
   "source": [
    "father_obj=father()"
   ]
  },
  {
   "cell_type": "code",
   "execution_count": 9,
   "id": "a390463c-0a61-40a1-ba3c-f7284255f986",
   "metadata": {},
   "outputs": [
    {
     "data": {
      "text/plain": [
       "'This is father property'"
      ]
     },
     "execution_count": 9,
     "metadata": {},
     "output_type": "execute_result"
    }
   ],
   "source": [
    "father_obj.parent_property()"
   ]
  },
  {
   "cell_type": "code",
   "execution_count": 34,
   "id": "61f91428-b6d2-4333-9201-537266952c41",
   "metadata": {},
   "outputs": [
    {
     "ename": "AttributeError",
     "evalue": "'father' object has no attribute 'son'",
     "output_type": "error",
     "traceback": [
      "\u001b[0;31m---------------------------------------------------------------------------\u001b[0m",
      "\u001b[0;31mAttributeError\u001b[0m                            Traceback (most recent call last)",
      "Cell \u001b[0;32mIn[34], line 1\u001b[0m\n\u001b[0;32m----> 1\u001b[0m \u001b[43mfather_obj\u001b[49m\u001b[38;5;241;43m.\u001b[39;49m\u001b[43mson\u001b[49m()     \u001b[38;5;66;03m# father obj can access only father class method\u001b[39;00m\n",
      "\u001b[0;31mAttributeError\u001b[0m: 'father' object has no attribute 'son'"
     ]
    }
   ],
   "source": [
    "father_obj.son()     # father obj can access only father class method"
   ]
  },
  {
   "cell_type": "code",
   "execution_count": 10,
   "id": "af517060-11f0-4c28-86dc-85c372b2f44a",
   "metadata": {},
   "outputs": [],
   "source": [
    "class father:\n",
    "    def parent_property(self):\n",
    "        return \"Inside father class\"\n",
    "class son (father):\n",
    "    def job(self):\n",
    "        return \"son has also job\"\n",
    "    def parent_property(self):\n",
    "        return \"Inside child class\""
   ]
  },
  {
   "cell_type": "code",
   "execution_count": 11,
   "id": "da62a91b-9973-47b4-8a21-34492dcd110b",
   "metadata": {},
   "outputs": [],
   "source": [
    "son_obj=son()"
   ]
  },
  {
   "cell_type": "code",
   "execution_count": 12,
   "id": "40e9bb3d-6268-4a55-82bd-890fc1327158",
   "metadata": {},
   "outputs": [
    {
     "data": {
      "text/plain": [
       "'Inside child class'"
      ]
     },
     "execution_count": 12,
     "metadata": {},
     "output_type": "execute_result"
    }
   ],
   "source": [
    "son_obj.parent_property()   # function overriding : child class is strong"
   ]
  },
  {
   "cell_type": "code",
   "execution_count": 13,
   "id": "27ab9628-1425-42d4-8d7f-f14bf474b84f",
   "metadata": {},
   "outputs": [],
   "source": [
    "# Multi level inheritence\n",
    "# parent -> child1 -> child2"
   ]
  },
  {
   "cell_type": "code",
   "execution_count": 14,
   "id": "68ec5f30-2a7e-4166-919a-fa2438d9822d",
   "metadata": {},
   "outputs": [],
   "source": [
    "class grand_father:\n",
    "    def grend_father_property(self):\n",
    "        return \"grandfather property\"\n",
    "class father(grand_father):\n",
    "    def father_property(self):\n",
    "        return \"father property\"\n",
    "class son (father):\n",
    "    def son_property(self):\n",
    "        return \"son property\""
   ]
  },
  {
   "cell_type": "code",
   "execution_count": 15,
   "id": "320fd4b7-8837-419b-98db-0f34e63ec84c",
   "metadata": {},
   "outputs": [],
   "source": [
    "son_obj=son()"
   ]
  },
  {
   "cell_type": "code",
   "execution_count": 16,
   "id": "bbec1d55-6619-4799-8cb2-a74396af856e",
   "metadata": {},
   "outputs": [
    {
     "data": {
      "text/plain": [
       "'grandfather property'"
      ]
     },
     "execution_count": 16,
     "metadata": {},
     "output_type": "execute_result"
    }
   ],
   "source": [
    "son_obj.grend_father_property()  # son can access method of father and grandfather"
   ]
  },
  {
   "cell_type": "code",
   "execution_count": 17,
   "id": "7df2dc58-fa46-4563-9de7-7a11463abb5f",
   "metadata": {},
   "outputs": [],
   "source": [
    "father_obj=father()"
   ]
  },
  {
   "cell_type": "code",
   "execution_count": 18,
   "id": "7f33648b-3934-4847-a2dd-639673de626d",
   "metadata": {},
   "outputs": [
    {
     "data": {
      "text/plain": [
       "'grandfather property'"
      ]
     },
     "execution_count": 18,
     "metadata": {},
     "output_type": "execute_result"
    }
   ],
   "source": [
    "father_obj.grend_father_property()   # father can access only grandfather method"
   ]
  },
  {
   "cell_type": "code",
   "execution_count": 19,
   "id": "44eafaec-dbc1-4914-83a0-557191f1025c",
   "metadata": {},
   "outputs": [],
   "source": [
    "# Multiple Inheritence \n",
    "# one child class can inherit property from multiple parent class"
   ]
  },
  {
   "cell_type": "code",
   "execution_count": 20,
   "id": "3ad07da0-dd9d-4f09-b279-e3b66641ab86",
   "metadata": {},
   "outputs": [],
   "source": [
    "class mother:\n",
    "    def mother_property(self):\n",
    "        return \"mother property\"\n",
    "class father:\n",
    "    def father_property(self):\n",
    "        return \"father property\"\n",
    "class son (father,mother):\n",
    "    def son_property(self):\n",
    "        return \"son property\""
   ]
  },
  {
   "cell_type": "code",
   "execution_count": 21,
   "id": "3fad3d19-e21c-4a36-be73-d2b1220edc1a",
   "metadata": {},
   "outputs": [],
   "source": [
    "son_obj=son()"
   ]
  },
  {
   "cell_type": "code",
   "execution_count": 22,
   "id": "8902bac8-f529-4a79-9f01-b0b6cd8017d4",
   "metadata": {},
   "outputs": [
    {
     "data": {
      "text/plain": [
       "'mother property'"
      ]
     },
     "execution_count": 22,
     "metadata": {},
     "output_type": "execute_result"
    }
   ],
   "source": [
    "son_obj.mother_property()"
   ]
  },
  {
   "cell_type": "code",
   "execution_count": 23,
   "id": "e20fcd97-de57-4f44-86e9-99323bdf1574",
   "metadata": {},
   "outputs": [
    {
     "data": {
      "text/plain": [
       "'father property'"
      ]
     },
     "execution_count": 23,
     "metadata": {},
     "output_type": "execute_result"
    }
   ],
   "source": [
    "son_obj.father_property()"
   ]
  },
  {
   "cell_type": "code",
   "execution_count": 24,
   "id": "a0774413-f131-4e2a-a8b1-771c80ad99b9",
   "metadata": {},
   "outputs": [],
   "source": [
    "class mother:\n",
    "    def property(self):\n",
    "        return \"mother property\"\n",
    "class father:\n",
    "    def property(self):\n",
    "        return \"father property\"\n",
    "class son (mother,father):            # diamond problem : as method name of father and mother is same\n",
    "    def son_property(self):           # whichever class name is writeen 1st will get executed eg mother here\n",
    "        return \"son property\""
   ]
  },
  {
   "cell_type": "code",
   "execution_count": 25,
   "id": "db0da90e-e449-4023-b065-a1ddccad62a9",
   "metadata": {},
   "outputs": [],
   "source": [
    "son_obj=son()"
   ]
  },
  {
   "cell_type": "code",
   "execution_count": 26,
   "id": "c4b1bb12-ea75-490c-bc1f-c8e9aeb6ced1",
   "metadata": {},
   "outputs": [
    {
     "data": {
      "text/plain": [
       "'mother property'"
      ]
     },
     "execution_count": 26,
     "metadata": {},
     "output_type": "execute_result"
    }
   ],
   "source": [
    "son_obj.property()   # Diamond problem"
   ]
  },
  {
   "cell_type": "code",
   "execution_count": 27,
   "id": "bef39dc9-8b23-4d20-8ce5-520b91fa397c",
   "metadata": {},
   "outputs": [
    {
     "data": {
      "text/plain": [
       "'son property'"
      ]
     },
     "execution_count": 27,
     "metadata": {},
     "output_type": "execute_result"
    }
   ],
   "source": [
    "son_obj.son_property()"
   ]
  },
  {
   "cell_type": "code",
   "execution_count": 28,
   "id": "2ed08f40-ff59-490e-a88a-c9ca97df1abf",
   "metadata": {},
   "outputs": [],
   "source": [
    "# hirerical inheritence\n",
    "# one parent class can have multiple child class"
   ]
  },
  {
   "cell_type": "code",
   "execution_count": 29,
   "id": "8a6d0d75-bae5-49e0-8682-03191207e0d8",
   "metadata": {},
   "outputs": [],
   "source": [
    "class father:\n",
    "    def father_property(self):\n",
    "        return \"father property\"\n",
    "class son1 (father):\n",
    "    def son1_property(self):\n",
    "        return \"son1 property\"\n",
    "class son2 (father):\n",
    "    def son2_property(self):\n",
    "        return \"son2 property\""
   ]
  },
  {
   "cell_type": "code",
   "execution_count": 30,
   "id": "55367627-544a-4d30-8e6e-0b892e9843b7",
   "metadata": {},
   "outputs": [],
   "source": [
    "son1_obj=son1()"
   ]
  },
  {
   "cell_type": "code",
   "execution_count": 31,
   "id": "ab9c5109-f2b1-41e3-a35b-799e8f8fa7d6",
   "metadata": {},
   "outputs": [
    {
     "data": {
      "text/plain": [
       "'father property'"
      ]
     },
     "execution_count": 31,
     "metadata": {},
     "output_type": "execute_result"
    }
   ],
   "source": [
    "son1_obj.father_property()"
   ]
  },
  {
   "cell_type": "code",
   "execution_count": 32,
   "id": "12088cf2-98dc-4203-a265-318f294223a1",
   "metadata": {},
   "outputs": [],
   "source": [
    "son2_obj=son2()"
   ]
  },
  {
   "cell_type": "code",
   "execution_count": 35,
   "id": "4e6cabb8-738e-43c9-ae20-a0623ab6eee1",
   "metadata": {},
   "outputs": [
    {
     "data": {
      "text/plain": [
       "'father property'"
      ]
     },
     "execution_count": 35,
     "metadata": {},
     "output_type": "execute_result"
    }
   ],
   "source": [
    "son2_obj.father_property()"
   ]
  },
  {
   "cell_type": "markdown",
   "id": "b705f6f8-2ce4-4289-917c-c65dda329929",
   "metadata": {},
   "source": [
    "#### Abstraction"
   ]
  },
  {
   "cell_type": "code",
   "execution_count": 2,
   "id": "189b322f-a05c-4e17-8c3a-7b55ced6cd71",
   "metadata": {},
   "outputs": [],
   "source": [
    "## Concept of hiding complex implementation"
   ]
  },
  {
   "cell_type": "code",
   "execution_count": 18,
   "id": "bab9fe8c-f779-474f-b518-79bb861f22de",
   "metadata": {},
   "outputs": [],
   "source": [
    "import abc"
   ]
  },
  {
   "cell_type": "code",
   "execution_count": 21,
   "id": "0d064e3a-ffa7-45dd-a9b6-e25754a81f26",
   "metadata": {},
   "outputs": [],
   "source": [
    "class Pwskills:\n",
    "    \n",
    "    @abc.abstractmethod\n",
    "    def student_detail (self):\n",
    "        pass\n",
    "    \n",
    "    @abc.abstractmethod\n",
    "    def student_marks (self):\n",
    "        pass\n",
    "    \n",
    "    @abc.abstractmethod\n",
    "    def student_assg (self):\n",
    "        pass"
   ]
  },
  {
   "cell_type": "code",
   "execution_count": 22,
   "id": "1f905097-cc9d-42be-9f87-a008c0c7eeae",
   "metadata": {},
   "outputs": [],
   "source": [
    "class Data_analytics (Pwskills):\n",
    "    def student_detail (self):\n",
    "        return \"Data_Analytics student detail\"\n",
    "    def student_assg (self):\n",
    "        return \"Data_Analytics student marks\""
   ]
  },
  {
   "cell_type": "code",
   "execution_count": 23,
   "id": "d753943a-1ad7-4953-a6b3-46838b0944ad",
   "metadata": {},
   "outputs": [],
   "source": [
    "class Web_dev (Pwskills):\n",
    "    def student_detail (self):\n",
    "        return \"Web_dev student detail\"\n",
    "    def student_marks (self):\n",
    "        return \"Web_dev student marks\""
   ]
  },
  {
   "cell_type": "code",
   "execution_count": 24,
   "id": "43ddb906-90a8-470a-ab39-58e0fff0ba46",
   "metadata": {},
   "outputs": [],
   "source": [
    "obj_data_analytics=Data_analytics()"
   ]
  },
  {
   "cell_type": "code",
   "execution_count": 25,
   "id": "5ac9b622-939e-4e37-a108-4c51e45238fc",
   "metadata": {},
   "outputs": [
    {
     "data": {
      "text/plain": [
       "'Data_Analytics student marks'"
      ]
     },
     "execution_count": 25,
     "metadata": {},
     "output_type": "execute_result"
    }
   ],
   "source": [
    "obj_data_analytics.student_assg()"
   ]
  },
  {
   "cell_type": "code",
   "execution_count": 26,
   "id": "fa8f5c86-4e66-4db4-9881-465154ef0116",
   "metadata": {},
   "outputs": [
    {
     "data": {
      "text/plain": [
       "'Data_Analytics student detail'"
      ]
     },
     "execution_count": 26,
     "metadata": {},
     "output_type": "execute_result"
    }
   ],
   "source": [
    "obj_data_analytics.student_detail()"
   ]
  },
  {
   "cell_type": "code",
   "execution_count": 27,
   "id": "f136da17-e351-4daa-8ded-6b8924c3e81d",
   "metadata": {},
   "outputs": [],
   "source": [
    "obj_data_analytics.student_marks()"
   ]
  },
  {
   "cell_type": "code",
   "execution_count": 28,
   "id": "a31640ce-007f-4517-a36c-b149584a2f71",
   "metadata": {},
   "outputs": [],
   "source": [
    "obj_web= Web_dev()"
   ]
  },
  {
   "cell_type": "code",
   "execution_count": 29,
   "id": "fa588e89-a9d6-4ef3-bc91-d4591053b4d9",
   "metadata": {},
   "outputs": [],
   "source": [
    "obj_web.student_assg()"
   ]
  },
  {
   "cell_type": "code",
   "execution_count": 30,
   "id": "04df7c8f-3368-4e56-8a90-5d2680eac656",
   "metadata": {},
   "outputs": [
    {
     "data": {
      "text/plain": [
       "'Web_dev student marks'"
      ]
     },
     "execution_count": 30,
     "metadata": {},
     "output_type": "execute_result"
    }
   ],
   "source": [
    "obj_web.student_marks()"
   ]
  },
  {
   "cell_type": "code",
   "execution_count": 33,
   "id": "5a8f2fa6-6d80-4e87-8e0a-740615206d8a",
   "metadata": {},
   "outputs": [
    {
     "data": {
      "text/plain": [
       "'Web_dev student detail'"
      ]
     },
     "execution_count": 33,
     "metadata": {},
     "output_type": "execute_result"
    }
   ],
   "source": [
    "obj_web.student_detail()"
   ]
  },
  {
   "cell_type": "code",
   "execution_count": 34,
   "id": "d87920db-f99d-48a9-b18e-b8f17aabcb45",
   "metadata": {},
   "outputs": [],
   "source": [
    "class shape :\n",
    "    \n",
    "    @abc.abstractmethod\n",
    "    def area (self):\n",
    "        pass\n",
    "\n",
    "class rectangle(shape):\n",
    "    def area (self):\n",
    "        return \" Length * Breadth \"\n",
    "    \n",
    "class circle(shape):\n",
    "    def area (self):\n",
    "        return \" Pie * radius * radius \""
   ]
  },
  {
   "cell_type": "code",
   "execution_count": 35,
   "id": "6b300867-0fd4-4ce1-a083-d75594ea1467",
   "metadata": {},
   "outputs": [],
   "source": [
    "obj_rect=rectangle()"
   ]
  },
  {
   "cell_type": "code",
   "execution_count": 36,
   "id": "55fd0405-e305-47fd-9752-f485731d15fc",
   "metadata": {},
   "outputs": [
    {
     "data": {
      "text/plain": [
       "' Length * Breadth '"
      ]
     },
     "execution_count": 36,
     "metadata": {},
     "output_type": "execute_result"
    }
   ],
   "source": [
    "obj_rect.area()"
   ]
  },
  {
   "cell_type": "code",
   "execution_count": 38,
   "id": "295a22a6-cbc5-41ac-ab17-5c1c9fc102c3",
   "metadata": {},
   "outputs": [],
   "source": [
    "obj_circle=circle()"
   ]
  },
  {
   "cell_type": "code",
   "execution_count": 39,
   "id": "aecc1327-08e0-409b-a640-1c788ec0d1ea",
   "metadata": {},
   "outputs": [
    {
     "data": {
      "text/plain": [
       "' Pie * radius * radius '"
      ]
     },
     "execution_count": 39,
     "metadata": {},
     "output_type": "execute_result"
    }
   ],
   "source": [
    "obj_circle.area()"
   ]
  }
 ],
 "metadata": {
  "kernelspec": {
   "display_name": "Python 3 (ipykernel)",
   "language": "python",
   "name": "python3"
  },
  "language_info": {
   "codemirror_mode": {
    "name": "ipython",
    "version": 3
   },
   "file_extension": ".py",
   "mimetype": "text/x-python",
   "name": "python",
   "nbconvert_exporter": "python",
   "pygments_lexer": "ipython3",
   "version": "3.10.8"
  }
 },
 "nbformat": 4,
 "nbformat_minor": 5
}
