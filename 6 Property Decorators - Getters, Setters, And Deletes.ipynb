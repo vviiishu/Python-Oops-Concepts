{
 "cells": [
  {
   "cell_type": "code",
   "execution_count": 14,
   "id": "722fc41c-7ea5-4727-becb-a76bc04cb2ea",
   "metadata": {},
   "outputs": [],
   "source": [
    "class Student:\n",
    "    def __init__(self, name, price):\n",
    "        self.__name = name\n",
    "        self.__price = price"
   ]
  },
  {
   "cell_type": "code",
   "execution_count": 15,
   "id": "558008d5-8632-46c1-b42f-66c3e67bbe43",
   "metadata": {},
   "outputs": [],
   "source": [
    "stud = Student(\"Vishal\", 3000)"
   ]
  },
  {
   "cell_type": "code",
   "execution_count": 16,
   "id": "1d5a3fd9-22f5-449d-a41d-594d91b339ea",
   "metadata": {},
   "outputs": [
    {
     "ename": "AttributeError",
     "evalue": "'Student' object has no attribute 'name'",
     "output_type": "error",
     "traceback": [
      "\u001b[0;31m---------------------------------------------------------------------------\u001b[0m",
      "\u001b[0;31mAttributeError\u001b[0m                            Traceback (most recent call last)",
      "Cell \u001b[0;32mIn[16], line 1\u001b[0m\n\u001b[0;32m----> 1\u001b[0m \u001b[43mstud\u001b[49m\u001b[38;5;241;43m.\u001b[39;49m\u001b[43mname\u001b[49m \u001b[38;5;66;03m# because its a private variable\u001b[39;00m\n",
      "\u001b[0;31mAttributeError\u001b[0m: 'Student' object has no attribute 'name'"
     ]
    }
   ],
   "source": [
    "stud.name # because its a private variable"
   ]
  },
  {
   "cell_type": "code",
   "execution_count": 17,
   "id": "42c3dd75-71ee-4639-9b0a-49b1732986f5",
   "metadata": {},
   "outputs": [],
   "source": [
    "class Student:\n",
    "    def __init__(self, name, price):\n",
    "        self.__name = name\n",
    "        self.__price = price\n",
    "        \n",
    "    @property                      # it will make accesS_price as attribute of the class\n",
    "    def access_price(self):        # we will allow to access private variable by using propert ecorator\n",
    "        return self.__price        # even without using ()"
   ]
  },
  {
   "cell_type": "code",
   "execution_count": 18,
   "id": "7f28836a-69de-42d9-947d-c26ab1aa540d",
   "metadata": {},
   "outputs": [],
   "source": [
    "stud = Student(\"Vishal\", 2000)"
   ]
  },
  {
   "cell_type": "code",
   "execution_count": 19,
   "id": "972b961e-6189-4434-876d-6af881f5aa85",
   "metadata": {},
   "outputs": [
    {
     "data": {
      "text/plain": [
       "2000"
      ]
     },
     "execution_count": 19,
     "metadata": {},
     "output_type": "execute_result"
    }
   ],
   "source": [
    "stud.access_price"
   ]
  },
  {
   "cell_type": "code",
   "execution_count": 20,
   "id": "e9478faf-410d-401e-a21b-bbb1a8d42ccf",
   "metadata": {},
   "outputs": [],
   "source": [
    "class Student:\n",
    "    def __init__(self, name, price):\n",
    "        self.__name = name\n",
    "        self.__price = price\n",
    "        \n",
    "    @property # it will make accesS_price as attribute of the class\n",
    "    def access_price(self):\n",
    "        return self.__price\n",
    "    \n",
    "    @access_price.setter       # it is a property decorator by whic we can set the value of private variable\n",
    "    def price_set(self, price_new):\n",
    "        self.__price = price_new\n",
    "    "
   ]
  },
  {
   "cell_type": "code",
   "execution_count": 21,
   "id": "e45fc51d-04e5-4c15-8aab-bf49dc93812a",
   "metadata": {},
   "outputs": [],
   "source": [
    "stud = Student(\"Vishal\", 3000)"
   ]
  },
  {
   "cell_type": "code",
   "execution_count": 22,
   "id": "c03ef9bc-6971-48c8-b39c-5368b22800f1",
   "metadata": {},
   "outputs": [
    {
     "data": {
      "text/plain": [
       "3000"
      ]
     },
     "execution_count": 22,
     "metadata": {},
     "output_type": "execute_result"
    }
   ],
   "source": [
    "stud.access_price"
   ]
  },
  {
   "cell_type": "code",
   "execution_count": 23,
   "id": "d46ab613-a47e-42ea-bac4-755f00cf1576",
   "metadata": {},
   "outputs": [],
   "source": [
    "stud.price_set = 1500"
   ]
  },
  {
   "cell_type": "code",
   "execution_count": 24,
   "id": "340b8a79-53dd-4f54-b86e-278976704a5b",
   "metadata": {},
   "outputs": [
    {
     "data": {
      "text/plain": [
       "1500"
      ]
     },
     "execution_count": 24,
     "metadata": {},
     "output_type": "execute_result"
    }
   ],
   "source": [
    "stud.access_price"
   ]
  },
  {
   "cell_type": "code",
   "execution_count": 25,
   "id": "5b122621-eb7d-4754-8853-292746ac37d6",
   "metadata": {},
   "outputs": [],
   "source": [
    "class Student:\n",
    "    def __init__(self, name, price):\n",
    "        self.__name = name\n",
    "        self.__price = price\n",
    "        \n",
    "    @property #it will make accesS_price as attribute of the class\n",
    "    def access_price(self):\n",
    "        return self.__price\n",
    "    \n",
    "    @access_price.setter\n",
    "    def price_set(self, price_new):\n",
    "        self.__price = price_new\n",
    "    \n",
    "    @access_price.deleter       # it allow to delete private variable\n",
    "    def del_price(self):\n",
    "        del self.__price"
   ]
  },
  {
   "cell_type": "code",
   "execution_count": 26,
   "id": "19332a76-9227-49f3-87fb-a2917debb08d",
   "metadata": {},
   "outputs": [],
   "source": [
    "stud = Student(\"Vishal\", 1000)"
   ]
  },
  {
   "cell_type": "code",
   "execution_count": 27,
   "id": "ba79aab8-4f1f-4ed7-be00-765e899e0bd2",
   "metadata": {},
   "outputs": [
    {
     "data": {
      "text/plain": [
       "1000"
      ]
     },
     "execution_count": 27,
     "metadata": {},
     "output_type": "execute_result"
    }
   ],
   "source": [
    "stud.access_price"
   ]
  },
  {
   "cell_type": "code",
   "execution_count": 28,
   "id": "cf11ba0c-7f41-48a4-a9f7-1a9fac019616",
   "metadata": {},
   "outputs": [],
   "source": [
    "stud.price_set = 2000"
   ]
  },
  {
   "cell_type": "code",
   "execution_count": 29,
   "id": "b141ecb0-bc38-4a76-88d6-3deff7d3f105",
   "metadata": {},
   "outputs": [
    {
     "data": {
      "text/plain": [
       "2000"
      ]
     },
     "execution_count": 29,
     "metadata": {},
     "output_type": "execute_result"
    }
   ],
   "source": [
    "stud.access_price"
   ]
  },
  {
   "cell_type": "code",
   "execution_count": 30,
   "id": "03fd4bb4-fe8f-47e3-b61a-2776d5536a1a",
   "metadata": {},
   "outputs": [],
   "source": [
    "del stud.del_price"
   ]
  },
  {
   "cell_type": "code",
   "execution_count": 31,
   "id": "b07c75bd-f71b-40b0-b37f-f2f84191f409",
   "metadata": {},
   "outputs": [
    {
     "ename": "AttributeError",
     "evalue": "'Student' object has no attribute '_Student__price'",
     "output_type": "error",
     "traceback": [
      "\u001b[0;31m---------------------------------------------------------------------------\u001b[0m",
      "\u001b[0;31mAttributeError\u001b[0m                            Traceback (most recent call last)",
      "Cell \u001b[0;32mIn[31], line 1\u001b[0m\n\u001b[0;32m----> 1\u001b[0m \u001b[43mstud\u001b[49m\u001b[38;5;241;43m.\u001b[39;49m\u001b[43maccess_price\u001b[49m\n",
      "Cell \u001b[0;32mIn[25], line 8\u001b[0m, in \u001b[0;36mStudent.access_price\u001b[0;34m(self)\u001b[0m\n\u001b[1;32m      6\u001b[0m \u001b[38;5;129m@property\u001b[39m \u001b[38;5;66;03m#it will make accesS_price as attribute of the class\u001b[39;00m\n\u001b[1;32m      7\u001b[0m \u001b[38;5;28;01mdef\u001b[39;00m \u001b[38;5;21maccess_price\u001b[39m(\u001b[38;5;28mself\u001b[39m):\n\u001b[0;32m----> 8\u001b[0m     \u001b[38;5;28;01mreturn\u001b[39;00m \u001b[38;5;28;43mself\u001b[39;49m\u001b[38;5;241;43m.\u001b[39;49m\u001b[43m__price\u001b[49m\n",
      "\u001b[0;31mAttributeError\u001b[0m: 'Student' object has no attribute '_Student__price'"
     ]
    }
   ],
   "source": [
    "stud.access_price"
   ]
  },
  {
   "cell_type": "code",
   "execution_count": 32,
   "id": "625bda1b-4302-4819-a104-e70a9a17a6b7",
   "metadata": {},
   "outputs": [],
   "source": [
    "class Circle:\n",
    "    def __init__(self, radius):\n",
    "        self.__radius = radius\n",
    "    @property\n",
    "    def radius(self):\n",
    "        return self.__radius"
   ]
  },
  {
   "cell_type": "code",
   "execution_count": 33,
   "id": "eb6672d8-5509-436e-b1a3-db628a78c8eb",
   "metadata": {},
   "outputs": [],
   "source": [
    "c = Circle(5)"
   ]
  },
  {
   "cell_type": "code",
   "execution_count": 34,
   "id": "e9b9af34-47b9-4bd0-a0c1-d56c9889424c",
   "metadata": {},
   "outputs": [
    {
     "data": {
      "text/plain": [
       "5"
      ]
     },
     "execution_count": 34,
     "metadata": {},
     "output_type": "execute_result"
    }
   ],
   "source": [
    "c.radius"
   ]
  },
  {
   "cell_type": "code",
   "execution_count": 35,
   "id": "fc5e4bf6-db67-463b-b412-6e6d17cb3d98",
   "metadata": {},
   "outputs": [],
   "source": [
    "class Circle:\n",
    "    def __init__(self, radius):\n",
    "        self.__radius = radius\n",
    "    @property\n",
    "    def radius(self):\n",
    "        return self.__radius\n",
    "    @radius.setter\n",
    "    def radius(self, value):\n",
    "        if value <= 0:\n",
    "            raise ValueError(\"Radius is not pos\")\n",
    "        self.__radius =value\n",
    "    def area(self):\n",
    "        return 3.14 * self.__radius * self.__radius"
   ]
  },
  {
   "cell_type": "code",
   "execution_count": 36,
   "id": "e480c368-92bf-4521-b3ba-aab84e7ae5e8",
   "metadata": {},
   "outputs": [],
   "source": [
    "c = Circle(5)"
   ]
  },
  {
   "cell_type": "code",
   "execution_count": 37,
   "id": "6f24ad32-c8c3-40a6-8255-6b00da37596c",
   "metadata": {},
   "outputs": [
    {
     "data": {
      "text/plain": [
       "5"
      ]
     },
     "execution_count": 37,
     "metadata": {},
     "output_type": "execute_result"
    }
   ],
   "source": [
    "c.radius"
   ]
  },
  {
   "cell_type": "code",
   "execution_count": 38,
   "id": "75f7bada-7544-46a0-9d85-ef2df0930509",
   "metadata": {},
   "outputs": [],
   "source": [
    "c.radius = 10"
   ]
  },
  {
   "cell_type": "code",
   "execution_count": 39,
   "id": "6ef16930-7582-4cc8-8a88-7986940b41fa",
   "metadata": {},
   "outputs": [
    {
     "data": {
      "text/plain": [
       "10"
      ]
     },
     "execution_count": 39,
     "metadata": {},
     "output_type": "execute_result"
    }
   ],
   "source": [
    "c.radius"
   ]
  },
  {
   "cell_type": "code",
   "execution_count": 40,
   "id": "00ab1b66-6313-4491-8efc-17cd9a1d64e1",
   "metadata": {},
   "outputs": [],
   "source": [
    "c.radius = 10"
   ]
  },
  {
   "cell_type": "code",
   "execution_count": 41,
   "id": "4e0391f2-80e1-44ba-a6d0-629ebc8ecaed",
   "metadata": {},
   "outputs": [
    {
     "data": {
      "text/plain": [
       "314.0"
      ]
     },
     "execution_count": 41,
     "metadata": {},
     "output_type": "execute_result"
    }
   ],
   "source": [
    "c.area()"
   ]
  }
 ],
 "metadata": {
  "kernelspec": {
   "display_name": "Python 3 (ipykernel)",
   "language": "python",
   "name": "python3"
  },
  "language_info": {
   "codemirror_mode": {
    "name": "ipython",
    "version": 3
   },
   "file_extension": ".py",
   "mimetype": "text/x-python",
   "name": "python",
   "nbconvert_exporter": "python",
   "pygments_lexer": "ipython3",
   "version": "3.10.8"
  }
 },
 "nbformat": 4,
 "nbformat_minor": 5
}
